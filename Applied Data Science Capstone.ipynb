{
    "nbformat_minor": 1, 
    "cells": [
        {
            "source": "# Clintons Capstone Project\n\n# Peer Graded Assignment \n\n## A description of the problem and a discussion of the background.\n ### Introduction\n     We note the growing popularity of social media applications, notably FourSquare (FSq). FSq is notable in that they provide location intelligence to people. \n     As we are a newly launched chain of Vegan pizza restaurants, we would like to contemplate a strategy that leverages FSq's locational data platform. \n     \n     Cape Town is hot spot for tourists. We wish to identify the areas most frequented by tourists with a view to coming up with machine learning backed promotional deals to increase our share of the tourist business.\n     \n     Where do they enjoy themselves the most in terms of likes?\n     What are the top rated tourist food venues of the different cities in Cape Town \n     What are the top rated tourist categories?\n     What do the various tourist groups prefer?\n           \n     \n ### Business Problem\n     We want to find out where best to spend our advertising budget and how we should offer to customers  that suits there tastes.\n     By targeting the right customer, with the right promotion, this will help us get the most value for our promotional spending.\n     We wish to use Machine Learning techniques to understand the movement and likes of the Vegan tourist in CT so that we can offer them our awesome lekker Vegan Pizza!\n\n     \n    \n## A description of the data and how it will be used to solve the problem. (15 marks)\n ###   Description of the Data\n         We will use the following FSq endpoints to collect data on:\n             Venue\n             User\n             Categories\n             \n         This data will give us information related venues most visited and the categories within which they fall. \n         Finally, the user data will provide more insight into the underlying groups of people     who drive participate int he data generated.\n             \n ###   How the data will be used\n         The data will be used in various phases, primarily and Unsupervised Learning phase wherein clusters will be identified, followed by a supervised phase wherein we determin who to markets to.\n             1. Exploratory Data phase\n                 Determine the major clusters of venues that users visit and provide a brief background of the user base.\n                 \n             2. Data Modelling\n                 Based on the various clusters, run a classification model to determine whether or not to promote our Vegan Pizzas to potential customers. \n                 The MAchine Learning Modelling phase will be run across these phases:\n                 \n                 Modelling (Machiine Learning):\n                        01. Import Data\n                        02. Data Cleaning\n                        03. Build model\n                        04. Train Model\n                        05. Test Model\n                        06. Improve Efficiency\n\n             \n         \n", 
            "cell_type": "markdown", 
            "metadata": {
                "collapsed": true
            }
        }, 
        {
            "source": "import pandas as pd\nimport numpy as np\nprint(\"Lets do this Capstone battle\")", 
            "cell_type": "code", 
            "metadata": {}, 
            "outputs": [
                {
                    "output_type": "stream", 
                    "name": "stdout", 
                    "text": "Lets do this Capstone battle\n"
                }
            ], 
            "execution_count": 1
        }, 
        {
            "source": "", 
            "cell_type": "code", 
            "metadata": {}, 
            "outputs": [], 
            "execution_count": null
        }
    ], 
    "metadata": {
        "kernelspec": {
            "display_name": "Python 3.5", 
            "name": "python3", 
            "language": "python"
        }, 
        "language_info": {
            "mimetype": "text/x-python", 
            "nbconvert_exporter": "python", 
            "version": "3.5.5", 
            "name": "python", 
            "pygments_lexer": "ipython3", 
            "file_extension": ".py", 
            "codemirror_mode": {
                "version": 3, 
                "name": "ipython"
            }
        }
    }, 
    "nbformat": 4
}